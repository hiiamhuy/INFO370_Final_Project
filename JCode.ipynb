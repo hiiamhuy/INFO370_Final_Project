{
 "cells": [
  {
   "cell_type": "markdown",
   "metadata": {},
   "source": [
    "# Analyzing Adaptation Success of Second Generation Immigrant Children of America\n",
    "\n",
    "## Final Resource\n",
    "#### John Diego, Huy Nguyen, Jessica Ro, Jason Xu\n",
    "\n"
   ]
  },
  {
   "cell_type": "markdown",
   "metadata": {},
   "source": [
    "__ Historically, immigrants arrive in America for various reasons - some immigrate to escape political persecution, and some immigrate due to economic opportunities. Arriving in a new country, these families go through an adaptation process.__ \n",
    "\n",
    "__To explore the success of second wave immigrant we looked at two specific aspects - Their success in terms of professional careers they achieve at an older age, and family income based on the parents contribution only. Below are the three specific questions we seeked to analyze.__ \n",
    "\n",
    "__This resource contains methods and results used to analyze question 2 &3.__"
   ]
  },
  {
   "cell_type": "markdown",
   "metadata": {},
   "source": [
    "Q1: How does the parent’s educational, work, and language background affect family income? \n",
    "\n",
    "Q2: Does speaking english give greater mobility to family? \n",
    "\n",
    "Q3: How does the previous relationships(Q1 and Q2) look like if we were to view it from the perspective of the Hmong and Vietnamese?  \n",
    "\n"
   ]
  },
  {
   "cell_type": "code",
   "execution_count": 55,
   "metadata": {
    "collapsed": true
   },
   "outputs": [],
   "source": [
    "\n",
    "# Set up\n",
    "\n",
    "import numpy as np\n",
    "import pandas as pd\n",
    "import seaborn as sns # for visualiation\n",
    "from urllib.request import urlopen\n",
    "import statsmodels.formula.api as smf # linear modeling\n",
    "import matplotlib.pyplot as plt # plotting\n",
    "import matplotlib\n",
    "import statsmodels.api as sm\n",
    "import statsmodels.formula.api as amf\n",
    "import plotly.graph_objs as go\n",
    "import plotly.plotly as py\n",
    "import plotly.tools as tls\n",
    "py.sign_in('jessro95', 'QLqhsISQzdI2aJUEKNky')\n",
    "\n",
    "\n",
    "matplotlib.style.use('ggplot')\n",
    "%matplotlib inline "
   ]
  },
  {
   "cell_type": "markdown",
   "metadata": {},
   "source": [
    "# Data Preparation \n",
    "\n",
    "The dataset was retrieved from [the Children of Immigrants Longitudinal study](http://www.icpsr.umich.edu/icpsrweb/DSDR/studies/20520) that observed the adaptation process of second-generation immigrants from 1991 to 2006. Over 5200 immigrant second generation children born in the United States with at least one foreign-born parent, or children born abroad but brought to the United States at an early age were interviewed at three stages of their lives, at an average of 14, 17, and 24. After the first follow-up survey of immigrant children, a parental survey was conducted, receiving 2,442, or 46 percent of the original student sample interviewed. Data was collected through face-to-face interviews and paper and pencil interviews. The data contains 5262 observations(cases), with 665 features for each caseid.\n",
    "\n"
   ]
  },
  {
   "cell_type": "code",
   "execution_count": 56,
   "metadata": {
    "collapsed": false
   },
   "outputs": [
    {
     "name": "stdout",
     "output_type": "stream",
     "text": [
      "(5262, 665)\n"
     ]
    },
    {
     "name": "stderr",
     "output_type": "stream",
     "text": [
      "//anaconda/lib/python3.5/site-packages/IPython/core/interactiveshell.py:2717: DtypeWarning:\n",
      "\n",
      "Columns (4,15,16,18,19,21,22,23,24,25,51,67,101,107,115,117,119,121,123,129,135,136,137,522,524,542,545,611,663) have mixed types. Specify dtype option on import or set low_memory=False.\n",
      "\n"
     ]
    }
   ],
   "source": [
    "#Read data\n",
    "df = pd.read_csv('data/20520-0001-Data.tsv', sep='\\t');\n",
    "print(df.shape)\n",
    "#Extract Third Phase Data from whole dataset (v400~v450 + CaseID) &  parental dataset.\n",
    "df_thirdPhase = df.loc[:, 'v400':'CASEID']\n",
    "df_thirdPhase = pd.concat([df_thirdPhase, df[['p144','p28a', 'p28b', 'p28c', 'p28d', 'v21']]], axis=1)\n",
    "\n",
    "#drop rows that does not have data on Third Phase (v400 == 0 are responses not for Third Phase)\n",
    "df_thirdPhase = df_thirdPhase[df_thirdPhase['v400'] == 1]\n"
   ]
  },
  {
   "cell_type": "code",
   "execution_count": 57,
   "metadata": {
    "collapsed": false
   },
   "outputs": [
    {
     "name": "stderr",
     "output_type": "stream",
     "text": [
      "//anaconda/lib/python3.5/site-packages/ipykernel/__main__.py:17: SettingWithCopyWarning:\n",
      "\n",
      "\n",
      "A value is trying to be set on a copy of a slice from a DataFrame.\n",
      "Try using .loc[row_indexer,col_indexer] = value instead\n",
      "\n",
      "See the caveats in the documentation: http://pandas.pydata.org/pandas-docs/stable/indexing.html#indexing-view-versus-copy\n",
      "\n"
     ]
    }
   ],
   "source": [
    "\n",
    "#Changing column names\n",
    "df_needed = df_thirdPhase[['v21', 'p144','p28a', 'p28b', 'p28c', 'p28d', 'v407a', 'v415e', 'v428b', 'v429a','v429b', 'v429c','v429d',  'v431', 'v433', 'v434', 'v435', 'v444', 'v445', 'v447', 'CASEID']];\n",
    "df_needed.columns = ['origin' , 'ParentsScore', 'ParentSpeak', 'ParentUnderstand', 'ParentRead', 'ParentWrite', 'Highest_academic_years', 'curJobScore' ,'non_English_understandability','English_speakability','English_understandability','English_readability','English_writability', 'most spoken language','race', 'race identity importance', 'felt_discrimination',  'visits to parents country', 'lived in parents country', 'home country', 'caseid']\n",
    "\n",
    "#Drop datas without Pristige Job Score and Parent's Pristiege job score\n",
    "df_three = df_needed[(df_needed.curJobScore != ' ')  & (df_needed.ParentsScore != ' ')]\n",
    "\n",
    "\n",
    "#Change the dataType to num from string\n",
    "numToStrings = ['felt_discrimination','non_English_understandability','English_understandability','Highest_academic_years',\n",
    "                'curJobScore', 'ParentsScore', 'English_speakability','English_understandability', \n",
    "                'English_readability', 'English_writability', 'ParentWrite','ParentSpeak', \n",
    "                'ParentUnderstand', 'ParentRead']\n",
    "\n",
    "for nam in numToStrings:\n",
    "    df_three[nam] = pd.to_numeric(df_three[nam], errors = 'coerce')\n",
    "\n"
   ]
  },
  {
   "cell_type": "markdown",
   "metadata": {},
   "source": [
    "### Question 2: Does speaking english give greater mobility to family?"
   ]
  },
  {
   "cell_type": "markdown",
   "metadata": {},
   "source": [
    "New variables of diff, English, ParentEnglish, and LangDiff were created. English and ParentEnglish which indicate the overall English language level, were computed by finding the mean score of speaking, reading, writing, understanding levels ranging from 1 (Very Little) to 4 (Very Well) that interviewees self-indicated. LangDiff was computed by finding the difference between Child's English level and ParentEnglish level. Diff was computed by the difference between Treiman prestige job score of child and parent. Treiman prestige job score describes the relative social class positions people have, with a higher score meaning higher social ranking job than others."
   ]
  },
  {
   "cell_type": "code",
   "execution_count": 58,
   "metadata": {
    "collapsed": false
   },
   "outputs": [],
   "source": [
    "    \n",
    "#Drop null values\n",
    "dropNullNames = ['ParentWrite', 'ParentRead', 'ParentSpeak', 'ParentUnderstand']    \n",
    "\n",
    "for name in dropNullNames: df_three = df_three[np.isfinite(df_three[name])]\n",
    "\n",
    "\n",
    "#Create diff column that is the difference between Parent's Prestiege score and child's prestiege score\n",
    "df_three['diff'] = df_three.curJobScore - df_three.ParentsScore\n",
    "\n",
    "#Create English variable that is the average of writability, readability, understandability, and speakability of the immigrant child at age over 24\n",
    "df_three['English'] = (df_three.English_writability + df_three.English_readability + \n",
    "                       df_three.English_understandability + df_three.English_speakability) / 4\n",
    "\n",
    "#Create ParentEnglish variable that is the average of writability, readability, understandability, and speakability of the immigrant parent\n",
    "df_three['ParentEnglish'] = (df_three.ParentRead + df_three.ParentUnderstand + df_three.ParentSpeak + \n",
    "                             df_three.ParentWrite) / 4\n",
    "\n",
    "#Create LangDiff variable that is the difference between Child's English level and Parent's English level\n",
    "df_three['LangDiff'] = df_three.English - df_three.ParentEnglish\n",
    "\n",
    "\n"
   ]
  },
  {
   "cell_type": "code",
   "execution_count": 59,
   "metadata": {
    "collapsed": false
   },
   "outputs": [
    {
     "name": "stdout",
     "output_type": "stream",
     "text": [
      "(884, 25)\n"
     ]
    },
    {
     "data": {
      "text/html": [
       "<div>\n",
       "<table border=\"1\" class=\"dataframe\">\n",
       "  <thead>\n",
       "    <tr style=\"text-align: right;\">\n",
       "      <th></th>\n",
       "      <th>origin</th>\n",
       "      <th>ParentsScore</th>\n",
       "      <th>ParentSpeak</th>\n",
       "      <th>ParentUnderstand</th>\n",
       "      <th>ParentRead</th>\n",
       "      <th>ParentWrite</th>\n",
       "      <th>Highest_academic_years</th>\n",
       "      <th>curJobScore</th>\n",
       "      <th>non_English_understandability</th>\n",
       "      <th>English_speakability</th>\n",
       "      <th>English_understandability</th>\n",
       "      <th>English_readability</th>\n",
       "      <th>English_writability</th>\n",
       "      <th>felt_discrimination</th>\n",
       "      <th>caseid</th>\n",
       "      <th>diff</th>\n",
       "      <th>English</th>\n",
       "      <th>ParentEnglish</th>\n",
       "      <th>LangDiff</th>\n",
       "    </tr>\n",
       "  </thead>\n",
       "  <tbody>\n",
       "    <tr>\n",
       "      <th>count</th>\n",
       "      <td>884.000000</td>\n",
       "      <td>884.000000</td>\n",
       "      <td>884.000000</td>\n",
       "      <td>884.000000</td>\n",
       "      <td>884.000000</td>\n",
       "      <td>884.000000</td>\n",
       "      <td>870.000000</td>\n",
       "      <td>884.000000</td>\n",
       "      <td>769.000000</td>\n",
       "      <td>843.000000</td>\n",
       "      <td>844.000000</td>\n",
       "      <td>843.000000</td>\n",
       "      <td>708.000000</td>\n",
       "      <td>874.000000</td>\n",
       "      <td>884.000000</td>\n",
       "      <td>884.000000</td>\n",
       "      <td>704.00000</td>\n",
       "      <td>884.000000</td>\n",
       "      <td>704.000000</td>\n",
       "    </tr>\n",
       "    <tr>\n",
       "      <th>mean</th>\n",
       "      <td>14.750000</td>\n",
       "      <td>41.985294</td>\n",
       "      <td>3.091629</td>\n",
       "      <td>3.233032</td>\n",
       "      <td>3.133484</td>\n",
       "      <td>3.002262</td>\n",
       "      <td>14.480460</td>\n",
       "      <td>45.005656</td>\n",
       "      <td>3.585176</td>\n",
       "      <td>3.883749</td>\n",
       "      <td>3.921801</td>\n",
       "      <td>3.895611</td>\n",
       "      <td>3.824859</td>\n",
       "      <td>0.532037</td>\n",
       "      <td>1592.687783</td>\n",
       "      <td>3.020362</td>\n",
       "      <td>3.87642</td>\n",
       "      <td>3.115102</td>\n",
       "      <td>0.777699</td>\n",
       "    </tr>\n",
       "    <tr>\n",
       "      <th>std</th>\n",
       "      <td>14.370039</td>\n",
       "      <td>12.728047</td>\n",
       "      <td>0.869502</td>\n",
       "      <td>0.786347</td>\n",
       "      <td>0.915606</td>\n",
       "      <td>1.002825</td>\n",
       "      <td>1.686325</td>\n",
       "      <td>11.516937</td>\n",
       "      <td>0.673794</td>\n",
       "      <td>0.378469</td>\n",
       "      <td>0.317237</td>\n",
       "      <td>0.359489</td>\n",
       "      <td>0.435813</td>\n",
       "      <td>0.499258</td>\n",
       "      <td>941.874511</td>\n",
       "      <td>16.113261</td>\n",
       "      <td>0.33760</td>\n",
       "      <td>0.850838</td>\n",
       "      <td>0.870906</td>\n",
       "    </tr>\n",
       "    <tr>\n",
       "      <th>min</th>\n",
       "      <td>1.000000</td>\n",
       "      <td>16.000000</td>\n",
       "      <td>1.000000</td>\n",
       "      <td>1.000000</td>\n",
       "      <td>1.000000</td>\n",
       "      <td>1.000000</td>\n",
       "      <td>10.000000</td>\n",
       "      <td>16.000000</td>\n",
       "      <td>1.000000</td>\n",
       "      <td>1.000000</td>\n",
       "      <td>1.000000</td>\n",
       "      <td>1.000000</td>\n",
       "      <td>1.000000</td>\n",
       "      <td>0.000000</td>\n",
       "      <td>5.000000</td>\n",
       "      <td>-47.000000</td>\n",
       "      <td>1.00000</td>\n",
       "      <td>1.000000</td>\n",
       "      <td>-3.000000</td>\n",
       "    </tr>\n",
       "    <tr>\n",
       "      <th>25%</th>\n",
       "      <td>2.000000</td>\n",
       "      <td>32.000000</td>\n",
       "      <td>2.000000</td>\n",
       "      <td>3.000000</td>\n",
       "      <td>3.000000</td>\n",
       "      <td>2.000000</td>\n",
       "      <td>14.000000</td>\n",
       "      <td>37.000000</td>\n",
       "      <td>3.000000</td>\n",
       "      <td>4.000000</td>\n",
       "      <td>4.000000</td>\n",
       "      <td>4.000000</td>\n",
       "      <td>4.000000</td>\n",
       "      <td>0.000000</td>\n",
       "      <td>807.250000</td>\n",
       "      <td>-9.000000</td>\n",
       "      <td>4.00000</td>\n",
       "      <td>2.500000</td>\n",
       "      <td>0.000000</td>\n",
       "    </tr>\n",
       "    <tr>\n",
       "      <th>50%</th>\n",
       "      <td>7.000000</td>\n",
       "      <td>42.000000</td>\n",
       "      <td>3.000000</td>\n",
       "      <td>3.000000</td>\n",
       "      <td>3.000000</td>\n",
       "      <td>3.000000</td>\n",
       "      <td>14.500000</td>\n",
       "      <td>44.000000</td>\n",
       "      <td>4.000000</td>\n",
       "      <td>4.000000</td>\n",
       "      <td>4.000000</td>\n",
       "      <td>4.000000</td>\n",
       "      <td>4.000000</td>\n",
       "      <td>1.000000</td>\n",
       "      <td>1534.500000</td>\n",
       "      <td>3.000000</td>\n",
       "      <td>4.00000</td>\n",
       "      <td>3.000000</td>\n",
       "      <td>1.000000</td>\n",
       "    </tr>\n",
       "    <tr>\n",
       "      <th>75%</th>\n",
       "      <td>30.000000</td>\n",
       "      <td>53.000000</td>\n",
       "      <td>4.000000</td>\n",
       "      <td>4.000000</td>\n",
       "      <td>4.000000</td>\n",
       "      <td>4.000000</td>\n",
       "      <td>16.000000</td>\n",
       "      <td>53.000000</td>\n",
       "      <td>4.000000</td>\n",
       "      <td>4.000000</td>\n",
       "      <td>4.000000</td>\n",
       "      <td>4.000000</td>\n",
       "      <td>4.000000</td>\n",
       "      <td>1.000000</td>\n",
       "      <td>2337.500000</td>\n",
       "      <td>14.000000</td>\n",
       "      <td>4.00000</td>\n",
       "      <td>4.000000</td>\n",
       "      <td>1.250000</td>\n",
       "    </tr>\n",
       "    <tr>\n",
       "      <th>max</th>\n",
       "      <td>60.000000</td>\n",
       "      <td>78.000000</td>\n",
       "      <td>4.000000</td>\n",
       "      <td>4.000000</td>\n",
       "      <td>4.000000</td>\n",
       "      <td>4.000000</td>\n",
       "      <td>18.000000</td>\n",
       "      <td>78.000000</td>\n",
       "      <td>4.000000</td>\n",
       "      <td>4.000000</td>\n",
       "      <td>4.000000</td>\n",
       "      <td>4.000000</td>\n",
       "      <td>4.000000</td>\n",
       "      <td>1.000000</td>\n",
       "      <td>5261.000000</td>\n",
       "      <td>49.000000</td>\n",
       "      <td>4.00000</td>\n",
       "      <td>4.000000</td>\n",
       "      <td>3.000000</td>\n",
       "    </tr>\n",
       "  </tbody>\n",
       "</table>\n",
       "</div>"
      ],
      "text/plain": [
       "           origin  ParentsScore  ParentSpeak  ParentUnderstand  ParentRead  \\\n",
       "count  884.000000    884.000000   884.000000        884.000000  884.000000   \n",
       "mean    14.750000     41.985294     3.091629          3.233032    3.133484   \n",
       "std     14.370039     12.728047     0.869502          0.786347    0.915606   \n",
       "min      1.000000     16.000000     1.000000          1.000000    1.000000   \n",
       "25%      2.000000     32.000000     2.000000          3.000000    3.000000   \n",
       "50%      7.000000     42.000000     3.000000          3.000000    3.000000   \n",
       "75%     30.000000     53.000000     4.000000          4.000000    4.000000   \n",
       "max     60.000000     78.000000     4.000000          4.000000    4.000000   \n",
       "\n",
       "       ParentWrite  Highest_academic_years  curJobScore  \\\n",
       "count   884.000000              870.000000   884.000000   \n",
       "mean      3.002262               14.480460    45.005656   \n",
       "std       1.002825                1.686325    11.516937   \n",
       "min       1.000000               10.000000    16.000000   \n",
       "25%       2.000000               14.000000    37.000000   \n",
       "50%       3.000000               14.500000    44.000000   \n",
       "75%       4.000000               16.000000    53.000000   \n",
       "max       4.000000               18.000000    78.000000   \n",
       "\n",
       "       non_English_understandability  English_speakability  \\\n",
       "count                     769.000000            843.000000   \n",
       "mean                        3.585176              3.883749   \n",
       "std                         0.673794              0.378469   \n",
       "min                         1.000000              1.000000   \n",
       "25%                         3.000000              4.000000   \n",
       "50%                         4.000000              4.000000   \n",
       "75%                         4.000000              4.000000   \n",
       "max                         4.000000              4.000000   \n",
       "\n",
       "       English_understandability  English_readability  English_writability  \\\n",
       "count                 844.000000           843.000000           708.000000   \n",
       "mean                    3.921801             3.895611             3.824859   \n",
       "std                     0.317237             0.359489             0.435813   \n",
       "min                     1.000000             1.000000             1.000000   \n",
       "25%                     4.000000             4.000000             4.000000   \n",
       "50%                     4.000000             4.000000             4.000000   \n",
       "75%                     4.000000             4.000000             4.000000   \n",
       "max                     4.000000             4.000000             4.000000   \n",
       "\n",
       "       felt_discrimination       caseid        diff    English  ParentEnglish  \\\n",
       "count           874.000000   884.000000  884.000000  704.00000     884.000000   \n",
       "mean              0.532037  1592.687783    3.020362    3.87642       3.115102   \n",
       "std               0.499258   941.874511   16.113261    0.33760       0.850838   \n",
       "min               0.000000     5.000000  -47.000000    1.00000       1.000000   \n",
       "25%               0.000000   807.250000   -9.000000    4.00000       2.500000   \n",
       "50%               1.000000  1534.500000    3.000000    4.00000       3.000000   \n",
       "75%               1.000000  2337.500000   14.000000    4.00000       4.000000   \n",
       "max               1.000000  5261.000000   49.000000    4.00000       4.000000   \n",
       "\n",
       "         LangDiff  \n",
       "count  704.000000  \n",
       "mean     0.777699  \n",
       "std      0.870906  \n",
       "min     -3.000000  \n",
       "25%      0.000000  \n",
       "50%      1.000000  \n",
       "75%      1.250000  \n",
       "max      3.000000  "
      ]
     },
     "execution_count": 59,
     "metadata": {},
     "output_type": "execute_result"
    }
   ],
   "source": [
    "#Data Structure\n",
    "\n",
    "\n",
    "#size of the dataframe\n",
    "print(np.shape(df_three))\n",
    "\n",
    "#variable names\n",
    "list(df_three)\n",
    "\n",
    "#Summary\n",
    "df_three.describe()\n",
    "\n",
    "\n"
   ]
  },
  {
   "cell_type": "markdown",
   "metadata": {},
   "source": [
    "# Linear regression\n",
    "\n",
    "Linear regression was used to find the signi"
   ]
  },
  {
   "cell_type": "code",
   "execution_count": 60,
   "metadata": {
    "collapsed": false
   },
   "outputs": [
    {
     "data": {
      "image/png": "[encoded data removed]",
      "text/plain": [
       "<matplotlib.figure.Figure at 0x115cfe518>"
      ]
     },
     "metadata": {},
     "output_type": "display_data"
    },
    {
     "name": "stdout",
     "output_type": "stream",
     "text": [
      "                            OLS Regression Results                            \n",
      "==============================================================================\n",
      "Dep. Variable:                   diff   R-squared:                       0.072\n",
      "Model:                            OLS   Adj. R-squared:                  0.070\n",
      "Method:                 Least Squares   F-statistic:                     54.30\n",
      "Date:                Wed, 08 Mar 2017   Prob (F-statistic):           4.84e-13\n",
      "Time:                        04:08:40   Log-Likelihood:                -2931.2\n",
      "No. Observations:                 704   AIC:                             5866.\n",
      "Df Residuals:                     702   BIC:                             5875.\n",
      "Df Model:                           1                                         \n",
      "Covariance Type:            nonrobust                                         \n",
      "==============================================================================\n",
      "                 coef    std err          t      P>|t|      [95.0% Conf. Int.]\n",
      "------------------------------------------------------------------------------\n",
      "Intercept     -1.3486      0.788     -1.712      0.087        -2.895     0.198\n",
      "LangDiff       4.9725      0.675      7.369      0.000         3.648     6.297\n",
      "==============================================================================\n",
      "Omnibus:                        0.347   Durbin-Watson:                   2.022\n",
      "Prob(Omnibus):                  0.841   Jarque-Bera (JB):                0.450\n",
      "Skew:                          -0.001   Prob(JB):                        0.798\n",
      "Kurtosis:                       2.876   Cond. No.                         2.27\n",
      "==============================================================================\n",
      "\n",
      "Warnings:\n",
      "[1] Standard Errors assume that the covariance matrix of the errors is correctly specified.\n"
     ]
    }
   ],
   "source": [
    "eng = smf.ols(formula = 'diff ~ LangDiff', data =df_three).fit()\n",
    "mobeng = sns.regplot(x= df_three['LangDiff'], y= df_three['diff'], data=df_three, color = 'b')\n",
    "mobeng.set(xlabel = 'English Level Difference (Child - Parent)', ylabel = 'Treiman Score Difference(Child - Parent)')\n",
    "mobeng.set_title(\"Treiman Job Score Difference vs English Level Difference\")\n",
    "\n",
    "plt.show()\n",
    "### rater 1 summary\n",
    "print(eng.summary())"
   ]
  },
  {
   "cell_type": "markdown",
   "metadata": {},
   "source": [
    "### Q3: How does the previous relationships(Q1 and Q2) look like if we were to view it from the perspective of the Hmong and Vietnamese?  \n",
    "\n"
   ]
  },
  {
   "cell_type": "code",
   "execution_count": 61,
   "metadata": {
    "collapsed": false
   },
   "outputs": [],
   "source": [
    "#Cleaned Data\n",
    "\n",
    "df_income = pd.read_csv('data/parent.edu.income.csv')\n",
    "vdf = pd.read_csv('data/vietnam.parent.edu.income.csv')\n",
    "hdf = pd.read_csv('data/hmong.parent.edu.income.csv')"
   ]
  },
  {
   "cell_type": "markdown",
   "metadata": {},
   "source": [
    "# Simple Linear Regression"
   ]
  },
  {
   "cell_type": "code",
   "execution_count": null,
   "metadata": {
    "collapsed": false
   },
   "outputs": [],
   "source": [
    "lm = smf.ols(formula='mi~english', data=df_income).fit()\n",
    "df_income['preds'] = lm.predict()\n",
    "lm.summary()"
   ]
  },
  {
   "cell_type": "code",
   "execution_count": 62,
   "metadata": {
    "collapsed": false
   },
   "outputs": [
    {
     "ename": "AttributeError",
     "evalue": "'DataFrame' object has no attribute 'preds'",
     "output_type": "error",
     "traceback": [
      "\u001b[0;31m---------------------------------------------------------------------------\u001b[0m",
      "\u001b[0;31mAttributeError\u001b[0m                            Traceback (most recent call last)",
      "\u001b[0;32m<ipython-input-62-225a333f9719>\u001b[0m in \u001b[0;36m<module>\u001b[0;34m()\u001b[0m\n\u001b[1;32m      1\u001b[0m \u001b[0mplt\u001b[0m\u001b[0;34m.\u001b[0m\u001b[0mscatter\u001b[0m\u001b[0;34m(\u001b[0m\u001b[0mdf_income\u001b[0m\u001b[0;34m.\u001b[0m\u001b[0menglish\u001b[0m\u001b[0;34m,\u001b[0m \u001b[0mdf_income\u001b[0m\u001b[0;34m.\u001b[0m\u001b[0mmi\u001b[0m\u001b[0;34m)\u001b[0m\u001b[0;34m\u001b[0m\u001b[0m\n\u001b[0;32m----> 2\u001b[0;31m \u001b[0mplt\u001b[0m\u001b[0;34m.\u001b[0m\u001b[0mplot\u001b[0m\u001b[0;34m(\u001b[0m\u001b[0mdf_income\u001b[0m\u001b[0;34m.\u001b[0m\u001b[0menglish\u001b[0m\u001b[0;34m,\u001b[0m \u001b[0mdf_income\u001b[0m\u001b[0;34m.\u001b[0m\u001b[0mpreds\u001b[0m\u001b[0;34m)\u001b[0m\u001b[0;34m\u001b[0m\u001b[0m\n\u001b[0m\u001b[1;32m      3\u001b[0m \u001b[0mplt\u001b[0m\u001b[0;34m.\u001b[0m\u001b[0mshow\u001b[0m\u001b[0;34m(\u001b[0m\u001b[0;34m)\u001b[0m\u001b[0;34m\u001b[0m\u001b[0m\n",
      "\u001b[0;32m//anaconda/lib/python3.5/site-packages/pandas/core/generic.py\u001b[0m in \u001b[0;36m__getattr__\u001b[0;34m(self, name)\u001b[0m\n\u001b[1;32m   2742\u001b[0m             \u001b[0;32mif\u001b[0m \u001b[0mname\u001b[0m \u001b[0;32min\u001b[0m \u001b[0mself\u001b[0m\u001b[0;34m.\u001b[0m\u001b[0m_info_axis\u001b[0m\u001b[0;34m:\u001b[0m\u001b[0;34m\u001b[0m\u001b[0m\n\u001b[1;32m   2743\u001b[0m                 \u001b[0;32mreturn\u001b[0m \u001b[0mself\u001b[0m\u001b[0;34m[\u001b[0m\u001b[0mname\u001b[0m\u001b[0;34m]\u001b[0m\u001b[0;34m\u001b[0m\u001b[0m\n\u001b[0;32m-> 2744\u001b[0;31m             \u001b[0;32mreturn\u001b[0m \u001b[0mobject\u001b[0m\u001b[0;34m.\u001b[0m\u001b[0m__getattribute__\u001b[0m\u001b[0;34m(\u001b[0m\u001b[0mself\u001b[0m\u001b[0;34m,\u001b[0m \u001b[0mname\u001b[0m\u001b[0;34m)\u001b[0m\u001b[0;34m\u001b[0m\u001b[0m\n\u001b[0m\u001b[1;32m   2745\u001b[0m \u001b[0;34m\u001b[0m\u001b[0m\n\u001b[1;32m   2746\u001b[0m     \u001b[0;32mdef\u001b[0m \u001b[0m__setattr__\u001b[0m\u001b[0;34m(\u001b[0m\u001b[0mself\u001b[0m\u001b[0;34m,\u001b[0m \u001b[0mname\u001b[0m\u001b[0;34m,\u001b[0m \u001b[0mvalue\u001b[0m\u001b[0;34m)\u001b[0m\u001b[0;34m:\u001b[0m\u001b[0;34m\u001b[0m\u001b[0m\n",
      "\u001b[0;31mAttributeError\u001b[0m: 'DataFrame' object has no attribute 'preds'"
     ]
    },
    {
     "data": {
      "image/png": "[encoded data removed]",
      "text/plain": [
       "<matplotlib.figure.Figure at 0x11eac3c18>"
      ]
     },
     "metadata": {},
     "output_type": "display_data"
    }
   ],
   "source": [
    "plt.scatter(df_income.english, df_income.mi)\n",
    "plt.plot(df_income.english, df_income.preds)\n",
    "plt.show()"
   ]
  },
  {
   "cell_type": "markdown",
   "metadata": {},
   "source": [
    "# Multiple Linear Regression"
   ]
  },
  {
   "cell_type": "code",
   "execution_count": null,
   "metadata": {
    "collapsed": false
   },
   "outputs": [],
   "source": [
    "lm_mult = smf.ols(formula='mi~ea + english + work', data=df_income).fit()\n",
    "df_income['mult_preds'] = lm_mult.predict()\n",
    "lm_mult.summary()"
   ]
  },
  {
   "cell_type": "code",
   "execution_count": null,
   "metadata": {
    "collapsed": false
   },
   "outputs": [],
   "source": [
    "#Plot of multiple linear regression\n",
    "fig, ax = plt.subplots(figsize=(10.5,6))\n",
    "ax.scatter(df_income.mult_preds, df_income.mi, label='Monthly Income', alpha=0.5)\n",
    "ax.plot(df_income.mi, df_income.mi, label='Linear Fit', alpha=0.9)\n",
    "ax.set_title('Income Multiple Linear Regression')\n",
    "ax.set_xlabel('Educational Attainment, English Knowledge, Work Situation Index')\n",
    "ax.set_ylabel('Monthly Earnings ($)')\n",
    "ax.legend(numpoints=1, loc='upper left')\n",
    "plt.xlim([0, 3500])\n",
    "plt.ylim([100, 21000])\n",
    "plt.show()"
   ]
  },
  {
   "cell_type": "markdown",
   "metadata": {},
   "source": [
    "## Vietnam"
   ]
  },
  {
   "cell_type": "markdown",
   "metadata": {},
   "source": [
    "### Simple Linear Regression"
   ]
  },
  {
   "cell_type": "code",
   "execution_count": null,
   "metadata": {
    "collapsed": false
   },
   "outputs": [],
   "source": [
    "df_vietnam = df_three[df_three.origin == 31]\n",
    "eng = smf.ols(formula = 'diff ~ LangDiff', data =df_vietnam).fit()\n",
    "mobeng = sns.regplot(x= df_vietnam['LangDiff'], y= df_vietnam['diff'], data=df_vietnam, color = 'b')\n",
    "\n",
    "### rater 1 summary\n",
    "print(eng.summary())"
   ]
  },
  {
   "cell_type": "code",
   "execution_count": null,
   "metadata": {
    "collapsed": false
   },
   "outputs": [],
   "source": [
    "v_lm_mult = smf.ols(formula='mi~ea + english + work', data=vdf).fit()\n",
    "vdf['mult_preds'] = v_lm_mult.predict()\n",
    "v_lm_mult.summary()"
   ]
  },
  {
   "cell_type": "code",
   "execution_count": null,
   "metadata": {
    "collapsed": false
   },
   "outputs": [],
   "source": [
    "#Plot of multiple linear regression\n",
    "fig, ax = plt.subplots(figsize=(6,6))\n",
    "ax.scatter(vdf.mult_preds, vdf.mi, label='Monthly Income', alpha=0.5)\n",
    "ax.plot(vdf.mi, vdf.mi, label='Linear Fit', alpha=0.9)\n",
    "ax.set_title('Vietnamese Family Income Multiple Linear Regression')\n",
    "ax.set_xlabel('Educational Attainment, English Knowledge, Work Situation Index')\n",
    "ax.set_ylabel('Monthly Earnings ($)')\n",
    "ax.legend(numpoints=1, loc='upper left')\n",
    "plt.xlim([0, 2000])\n",
    "plt.ylim([100, 5000])\n",
    "plt.show()"
   ]
  },
  {
   "cell_type": "markdown",
   "metadata": {},
   "source": [
    "\n",
    "## Hmong"
   ]
  },
  {
   "cell_type": "markdown",
   "metadata": {},
   "source": [
    "### Simple Linear Regression"
   ]
  },
  {
   "cell_type": "code",
   "execution_count": null,
   "metadata": {
    "collapsed": false
   },
   "outputs": [],
   "source": [
    "df_hmong = df_three[df_three.origin == 34]\n",
    "eng = smf.ols(formula = 'diff ~ LangDiff', data =df_hmong).fit()\n",
    "mobeng = sns.regplot(x= df_hmong['LangDiff'], y= df_hmong['diff'], data=df_hmong, color = 'b')\n",
    "\n",
    "### rater 1 summary\n",
    "print(eng.summary())"
   ]
  },
  {
   "cell_type": "code",
   "execution_count": null,
   "metadata": {
    "collapsed": false
   },
   "outputs": [],
   "source": [
    "h_lm_mult = smf.ols(formula='mi~ea + english + work', data=hdf).fit()\n",
    "hdf['mult_preds'] = h_lm_mult.predict()\n",
    "h_lm_mult.summary()"
   ]
  },
  {
   "cell_type": "code",
   "execution_count": null,
   "metadata": {
    "collapsed": false
   },
   "outputs": [],
   "source": [
    "#Plot of multiple linear regression\n",
    "fig, ax = plt.subplots(figsize=(6,6))\n",
    "ax.scatter(hdf.mult_preds, hdf.mi, label='Monthly Income', alpha=0.5)\n",
    "ax.plot(hdf.mi, hdf.mi, label='Linear Fit', alpha=0.9)\n",
    "ax.set_title('Hmong Family Income Multiple Linear Regression')\n",
    "ax.set_xlabel('Educational Attainment, English Knowledge, Work Situation Index')\n",
    "ax.set_ylabel('Monthly Earnings ($)')\n",
    "ax.legend(numpoints=1, loc='upper left')\n",
    "plt.xlim([0, 2000])\n",
    "plt.ylim([100, 5000])\n",
    "plt.show()"
   ]
  },
  {
   "cell_type": "code",
   "execution_count": null,
   "metadata": {
    "collapsed": true
   },
   "outputs": [],
   "source": []
  }
 ],
 "metadata": {
  "anaconda-cloud": {},
  "kernelspec": {
   "display_name": "Python [conda root]",
   "language": "python",
   "name": "conda-root-py"
  },
  "language_info": {
   "codemirror_mode": {
    "name": "ipython",
    "version": 3
   },
   "file_extension": ".py",
   "mimetype": "text/x-python",
   "name": "python",
   "nbconvert_exporter": "python",
   "pygments_lexer": "ipython3",
   "version": "3.5.2"
  }
 },
 "nbformat": 4,
 "nbformat_minor": 1
}
